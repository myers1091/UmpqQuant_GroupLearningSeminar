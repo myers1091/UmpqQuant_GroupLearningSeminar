{
  "nbformat": 4,
  "nbformat_minor": 0,
  "metadata": {
    "colab": {
      "provenance": [],
      "authorship_tag": "ABX9TyM+lNtlS1GdByVDt3YSLMr7",
      "include_colab_link": true
    },
    "kernelspec": {
      "name": "python3",
      "display_name": "Python 3"
    },
    "language_info": {
      "name": "python"
    }
  },
  "cells": [
    {
      "cell_type": "markdown",
      "metadata": {
        "id": "view-in-github",
        "colab_type": "text"
      },
      "source": [
        "<a href=\"https://colab.research.google.com/github/myers1091/UmpqQuant_GroupLearningSeminar/blob/main/hnorem/session04/Ch_12_exercises.ipynb\" target=\"_parent\"><img src=\"https://colab.research.google.com/assets/colab-badge.svg\" alt=\"Open In Colab\"/></a>"
      ]
    },
    {
      "cell_type": "code",
      "execution_count": null,
      "metadata": {
        "id": "LHl35W2xLTtc"
      },
      "outputs": [],
      "source": [
        "import tensorflow as tf\n",
        "from tensorflow import keras\n",
        "\n",
        "%load_ext tensorboard\n",
        "\n",
        "import numpy as np\n",
        "import pandas as pd\n",
        "import matplotlib.pyplot as plt\n",
        "import os"
      ]
    },
    {
      "cell_type": "markdown",
      "source": [
        "## exercise 3"
      ],
      "metadata": {
        "id": "0re18sD7Ls6B"
      }
    },
    {
      "cell_type": "code",
      "source": [
        "tf.range(10)"
      ],
      "metadata": {
        "colab": {
          "base_uri": "https://localhost:8080/"
        },
        "id": "0Efonu-HLeDo",
        "outputId": "35f90602-0e4c-4c7d-ffa2-890258ae09b7"
      },
      "execution_count": null,
      "outputs": [
        {
          "output_type": "execute_result",
          "data": {
            "text/plain": [
              "<tf.Tensor: shape=(10,), dtype=int32, numpy=array([0, 1, 2, 3, 4, 5, 6, 7, 8, 9], dtype=int32)>"
            ]
          },
          "metadata": {},
          "execution_count": 2
        }
      ]
    },
    {
      "cell_type": "code",
      "source": [
        "tf.constant(np.arange(10))"
      ],
      "metadata": {
        "colab": {
          "base_uri": "https://localhost:8080/"
        },
        "id": "55xPhE9VLf6T",
        "outputId": "9ef6876b-953e-4b1a-9e9d-304c5de36c06"
      },
      "execution_count": null,
      "outputs": [
        {
          "output_type": "execute_result",
          "data": {
            "text/plain": [
              "<tf.Tensor: shape=(10,), dtype=int64, numpy=array([0, 1, 2, 3, 4, 5, 6, 7, 8, 9])>"
            ]
          },
          "metadata": {},
          "execution_count": 3
        }
      ]
    },
    {
      "cell_type": "code",
      "source": [
        "## Exercise 12"
      ],
      "metadata": {
        "id": "TcmhRNhC9JkJ"
      },
      "execution_count": null,
      "outputs": []
    },
    {
      "cell_type": "code",
      "source": [
        "class normalization_layer(keras.layers.Layer):\n",
        "  def __init__(self, smoothing = 0.001, **kwargs):\n",
        "    self.smoothing = smoothing\n",
        "    super().__init__(**kwargs)\n",
        "\n",
        "\n",
        "  def build(self, input_shape):\n",
        "    self.alpha = self.add_weight(name='alpha', \n",
        "                                 shape=input_shape[-1:],\n",
        "                                 dtype=tf.float32,\n",
        "                                 initializer=\"ones\")\n",
        "    self.beta = self.add_weight(name='beta', \n",
        "                                 shape=input_shape[-1:],\n",
        "                                 dtype=tf.float32,\n",
        "                                 initializer=\"zeros\")\n",
        "    super().build(input_shape)\n",
        "\n",
        "  def call(self, inputs):\n",
        "    mean, variance = tf.nn.moments(inputs, axes=-1, keepdims=True)\n",
        "    #print(mean, variance)\n",
        "    return self.alpha * (inputs - mean) / (tf.sqrt(variance + self.smoothing)) + self.beta\n",
        "    #return self.alpha * ((input - mean)/tf.sqrt(variance + self.smoothing)) + self.beta <--- THIS ONE DIDNT WORK?\n",
        "\n",
        "  def compute_output_shape(self, batch_input_shape):\n",
        "    return batch_input_shape\n",
        "\n",
        "  def get_config(self):\n",
        "    base_config = super().get_config()\n",
        "    return {**base_config, \"smoothing\": self.smoothing}"
      ],
      "metadata": {
        "id": "5FoAxDNjLhZj"
      },
      "execution_count": null,
      "outputs": []
    },
    {
      "cell_type": "code",
      "source": [
        "tf.sqrt(tf.constant([4.]))\n"
      ],
      "metadata": {
        "colab": {
          "base_uri": "https://localhost:8080/"
        },
        "id": "w6sHtEUaDcFh",
        "outputId": "30602753-09eb-4a43-8a2f-d8b41890a4c4"
      },
      "execution_count": null,
      "outputs": [
        {
          "output_type": "execute_result",
          "data": {
            "text/plain": [
              "<tf.Tensor: shape=(1,), dtype=float32, numpy=array([2.], dtype=float32)>"
            ]
          },
          "metadata": {},
          "execution_count": 27
        }
      ]
    },
    {
      "cell_type": "code",
      "source": [
        "(tf.sqrt(tf.constant([4.])))\n"
      ],
      "metadata": {
        "colab": {
          "base_uri": "https://localhost:8080/"
        },
        "id": "x1EEglI1DgTT",
        "outputId": "0253230a-b675-4930-9d0d-2aa7910655bd"
      },
      "execution_count": null,
      "outputs": [
        {
          "output_type": "execute_result",
          "data": {
            "text/plain": [
              "<tf.Tensor: shape=(1,), dtype=float32, numpy=array([2.], dtype=float32)>"
            ]
          },
          "metadata": {},
          "execution_count": 28
        }
      ]
    },
    {
      "cell_type": "markdown",
      "source": [],
      "metadata": {
        "id": "Xvoj2P2VDb4n"
      }
    },
    {
      "cell_type": "markdown",
      "source": [],
      "metadata": {
        "id": "E6dxvCXvDY5w"
      }
    },
    {
      "cell_type": "code",
      "source": [
        "from sklearn.datasets import fetch_california_housing\n",
        "from sklearn.model_selection import train_test_split\n",
        "from sklearn.preprocessing import StandardScaler\n",
        "\n",
        "housing = fetch_california_housing()\n",
        "X_train_full, X_test, y_train_full, y_test = train_test_split(\n",
        "    housing.data, housing.target.reshape(-1, 1), random_state=42)\n",
        "X_train, X_valid, y_train, y_valid = train_test_split(\n",
        "    X_train_full, y_train_full, random_state=42)"
      ],
      "metadata": {
        "id": "tzVCqtQZBgkT"
      },
      "execution_count": null,
      "outputs": []
    },
    {
      "cell_type": "code",
      "source": [],
      "metadata": {
        "id": "Dym4XEnHDTqu"
      },
      "execution_count": null,
      "outputs": []
    },
    {
      "cell_type": "code",
      "source": [
        "X = X_train.astype(np.float32)\n",
        "\n",
        "custom_layer_norm = normalization_layer()\n",
        "keras_layer_norm = keras.layers.LayerNormalization()\n",
        "\n",
        "tf.reduce_mean(keras.losses.mean_absolute_error(\n",
        "    keras_layer_norm(X), custom_layer_norm(X)))"
      ],
      "metadata": {
        "colab": {
          "base_uri": "https://localhost:8080/"
        },
        "id": "I8RPcobLAxnu",
        "outputId": "57f3669d-5c83-46ca-bcec-c81db8699c23"
      },
      "execution_count": null,
      "outputs": [
        {
          "output_type": "execute_result",
          "data": {
            "text/plain": [
              "<tf.Tensor: shape=(), dtype=float32, numpy=4.1984418e-08>"
            ]
          },
          "metadata": {},
          "execution_count": 24
        }
      ]
    },
    {
      "cell_type": "code",
      "source": [],
      "metadata": {
        "id": "gH2zLigTBiWy"
      },
      "execution_count": null,
      "outputs": []
    }
  ]
}