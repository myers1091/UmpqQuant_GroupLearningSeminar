{
 "cells": [
  {
   "cell_type": "code",
   "execution_count": 1,
   "id": "ef23ee15",
   "metadata": {},
   "outputs": [],
   "source": [
    "import tensorflow as tf\n",
    "from tensorflow import keras\n",
    "import numpy as np\n",
    "\n",
    "import os\n",
    "root_logdir = os.path.join(os.curdir,\"my_log\")\n",
    "\n",
    "def get_run_logdir():\n",
    "    import time\n",
    "    run_id = time.strftime(\"run_%Y_%m_%d-%H_%M_%S\")\n",
    "    return os.path.join(root_logdir,run_id)\n",
    "run_logdir = get_run_logdir()\n"
   ]
  },
  {
   "cell_type": "code",
   "execution_count": 2,
   "id": "59a0d4c9",
   "metadata": {},
   "outputs": [],
   "source": [
    "(X_train_full,y_train_full),(X_test,y_test) = keras.datasets.mnist.load_data()\n",
    "X_train_full = X_train_full.astype('float32')/255.0\n",
    "X_test = X_test.astype('float32')/255.0"
   ]
  },
  {
   "cell_type": "code",
   "execution_count": 21,
   "id": "fda6175b",
   "metadata": {},
   "outputs": [
    {
     "data": {
      "text/plain": [
       "(60000, 28, 28)"
      ]
     },
     "execution_count": 21,
     "metadata": {},
     "output_type": "execute_result"
    }
   ],
   "source": [
    "X_train_full.shape"
   ]
  },
  {
   "cell_type": "code",
   "execution_count": 28,
   "id": "4cbaae73",
   "metadata": {},
   "outputs": [
    {
     "data": {
      "text/plain": [
       "(10000,)"
      ]
     },
     "execution_count": 28,
     "metadata": {},
     "output_type": "execute_result"
    }
   ],
   "source": [
    "y_test.shape"
   ]
  },
  {
   "cell_type": "markdown",
   "id": "3125dbf1",
   "metadata": {},
   "source": [
    "Need to change label to categorical <br>\n",
    "Do one-hot"
   ]
  },
  {
   "cell_type": "code",
   "execution_count": 3,
   "id": "754962f7",
   "metadata": {},
   "outputs": [
    {
     "name": "stderr",
     "output_type": "stream",
     "text": [
      "2022-08-22 16:45:45.914092: I tensorflow/stream_executor/cuda/cuda_gpu_executor.cc:975] successful NUMA node read from SysFS had negative value (-1), but there must be at least one NUMA node, so returning NUMA node zero\n",
      "2022-08-22 16:45:45.920265: I tensorflow/stream_executor/cuda/cuda_gpu_executor.cc:975] successful NUMA node read from SysFS had negative value (-1), but there must be at least one NUMA node, so returning NUMA node zero\n",
      "2022-08-22 16:45:45.920912: I tensorflow/stream_executor/cuda/cuda_gpu_executor.cc:975] successful NUMA node read from SysFS had negative value (-1), but there must be at least one NUMA node, so returning NUMA node zero\n",
      "2022-08-22 16:45:45.952439: I tensorflow/core/platform/cpu_feature_guard.cc:193] This TensorFlow binary is optimized with oneAPI Deep Neural Network Library (oneDNN) to use the following CPU instructions in performance-critical operations:  AVX2 FMA\n",
      "To enable them in other operations, rebuild TensorFlow with the appropriate compiler flags.\n",
      "2022-08-22 16:45:45.953746: I tensorflow/stream_executor/cuda/cuda_gpu_executor.cc:975] successful NUMA node read from SysFS had negative value (-1), but there must be at least one NUMA node, so returning NUMA node zero\n",
      "2022-08-22 16:45:45.954993: I tensorflow/stream_executor/cuda/cuda_gpu_executor.cc:975] successful NUMA node read from SysFS had negative value (-1), but there must be at least one NUMA node, so returning NUMA node zero\n",
      "2022-08-22 16:45:45.956330: I tensorflow/stream_executor/cuda/cuda_gpu_executor.cc:975] successful NUMA node read from SysFS had negative value (-1), but there must be at least one NUMA node, so returning NUMA node zero\n",
      "2022-08-22 16:45:46.290497: I tensorflow/stream_executor/cuda/cuda_gpu_executor.cc:975] successful NUMA node read from SysFS had negative value (-1), but there must be at least one NUMA node, so returning NUMA node zero\n",
      "2022-08-22 16:45:46.291144: I tensorflow/stream_executor/cuda/cuda_gpu_executor.cc:975] successful NUMA node read from SysFS had negative value (-1), but there must be at least one NUMA node, so returning NUMA node zero\n",
      "2022-08-22 16:45:46.291748: I tensorflow/stream_executor/cuda/cuda_gpu_executor.cc:975] successful NUMA node read from SysFS had negative value (-1), but there must be at least one NUMA node, so returning NUMA node zero\n",
      "2022-08-22 16:45:46.292334: I tensorflow/core/common_runtime/gpu/gpu_device.cc:1532] Created device /job:localhost/replica:0/task:0/device:GPU:0 with 21764 MB memory:  -> device: 0, name: NVIDIA GeForce RTX 3090, pci bus id: 0000:2b:00.0, compute capability: 8.6\n"
     ]
    }
   ],
   "source": [
    "y_test_OH = tf.one_hot(y_test, 10)\n",
    "y_train_full_OH = tf.one_hot(y_train_full, 10)"
   ]
  },
  {
   "cell_type": "code",
   "execution_count": 24,
   "id": "421364fc",
   "metadata": {},
   "outputs": [
    {
     "data": {
      "text/plain": [
       "<tf.Tensor: shape=(10000, 10), dtype=float32, numpy=\n",
       "array([[0., 0., 0., ..., 1., 0., 0.],\n",
       "       [0., 0., 1., ..., 0., 0., 0.],\n",
       "       [0., 1., 0., ..., 0., 0., 0.],\n",
       "       ...,\n",
       "       [0., 0., 0., ..., 0., 0., 0.],\n",
       "       [0., 0., 0., ..., 0., 0., 0.],\n",
       "       [0., 0., 0., ..., 0., 0., 0.]], dtype=float32)>"
      ]
     },
     "execution_count": 24,
     "metadata": {},
     "output_type": "execute_result"
    }
   ],
   "source": [
    "y_test_OH"
   ]
  },
  {
   "cell_type": "code",
   "execution_count": 59,
   "id": "7ae2aa11",
   "metadata": {},
   "outputs": [],
   "source": [
    "model = keras.models.Sequential()\n",
    "model.add(keras.layers.Flatten(input_shape=[28,28]))\n",
    "# model.add(keras.layers.Dense(784,activation=\"relu\"))\n",
    "model.add(keras.layers.Dense(800,activation=\"relu\"))\n",
    "model.add(keras.layers.Dense(10,activation=\"softmax\"))"
   ]
  },
  {
   "cell_type": "code",
   "execution_count": 60,
   "id": "49c53bfb",
   "metadata": {},
   "outputs": [
    {
     "name": "stdout",
     "output_type": "stream",
     "text": [
      "Model: \"sequential_3\"\n",
      "_________________________________________________________________\n",
      " Layer (type)                Output Shape              Param #   \n",
      "=================================================================\n",
      " flatten_3 (Flatten)         (None, 784)               0         \n",
      "                                                                 \n",
      " dense_7 (Dense)             (None, 800)               628000    \n",
      "                                                                 \n",
      " dense_8 (Dense)             (None, 10)                8010      \n",
      "                                                                 \n",
      "=================================================================\n",
      "Total params: 636,010\n",
      "Trainable params: 636,010\n",
      "Non-trainable params: 0\n",
      "_________________________________________________________________\n"
     ]
    }
   ],
   "source": [
    "model.summary()"
   ]
  },
  {
   "cell_type": "code",
   "execution_count": 10,
   "id": "c5166a40",
   "metadata": {},
   "outputs": [],
   "source": [
    "model.compile(loss = \"categorical_crossentropy\",\\\n",
    "              optimizer=\"Adam\",\\\n",
    "              metrics=[\"categorical_accuracy\"])\n",
    "early_stop_cb = tf.keras.callbacks.EarlyStopping(monitor='val_loss', patience=5)\n",
    "tensorboard_cb = keras.callbacks.TensorBoard(run_logdir)\n"
   ]
  },
  {
   "cell_type": "code",
   "execution_count": 64,
   "id": "176af157",
   "metadata": {},
   "outputs": [
    {
     "name": "stdout",
     "output_type": "stream",
     "text": [
      "Epoch 1/50\n",
      "1688/1688 [==============================] - 3s 2ms/step - loss: 2.9743 - categorical_accuracy: 0.9104 - val_loss: 0.3091 - val_categorical_accuracy: 0.9517\n",
      "Epoch 2/50\n",
      "1688/1688 [==============================] - 3s 1ms/step - loss: 0.3851 - categorical_accuracy: 0.9397 - val_loss: 0.4506 - val_categorical_accuracy: 0.9358\n",
      "Epoch 3/50\n",
      "1688/1688 [==============================] - 3s 1ms/step - loss: 0.3472 - categorical_accuracy: 0.9421 - val_loss: 0.3749 - val_categorical_accuracy: 0.9470\n",
      "Epoch 4/50\n",
      "1688/1688 [==============================] - 3s 2ms/step - loss: 0.3319 - categorical_accuracy: 0.9432 - val_loss: 0.3211 - val_categorical_accuracy: 0.9488\n",
      "Epoch 5/50\n",
      "1688/1688 [==============================] - 3s 2ms/step - loss: 0.2895 - categorical_accuracy: 0.9487 - val_loss: 0.3112 - val_categorical_accuracy: 0.9475\n",
      "Epoch 6/50\n",
      "1688/1688 [==============================] - 2s 1ms/step - loss: 0.2423 - categorical_accuracy: 0.9540 - val_loss: 0.2248 - val_categorical_accuracy: 0.9555\n",
      "Epoch 7/50\n",
      "1688/1688 [==============================] - 2s 1ms/step - loss: 0.2481 - categorical_accuracy: 0.9550 - val_loss: 0.2886 - val_categorical_accuracy: 0.9550\n",
      "Epoch 8/50\n",
      "1688/1688 [==============================] - 3s 2ms/step - loss: 0.2431 - categorical_accuracy: 0.9581 - val_loss: 0.3102 - val_categorical_accuracy: 0.9568\n",
      "Epoch 9/50\n",
      "1688/1688 [==============================] - 3s 1ms/step - loss: 0.1910 - categorical_accuracy: 0.9619 - val_loss: 0.2280 - val_categorical_accuracy: 0.9622\n",
      "Epoch 10/50\n",
      "1688/1688 [==============================] - 3s 1ms/step - loss: 0.2162 - categorical_accuracy: 0.9619 - val_loss: 0.2692 - val_categorical_accuracy: 0.9610\n",
      "Epoch 11/50\n",
      "1688/1688 [==============================] - 2s 1ms/step - loss: 0.2034 - categorical_accuracy: 0.9639 - val_loss: 0.2916 - val_categorical_accuracy: 0.9583\n",
      "Epoch 12/50\n",
      "1688/1688 [==============================] - 3s 2ms/step - loss: 0.1883 - categorical_accuracy: 0.9665 - val_loss: 0.4515 - val_categorical_accuracy: 0.9507\n",
      "Epoch 13/50\n",
      "1688/1688 [==============================] - 3s 2ms/step - loss: 0.1966 - categorical_accuracy: 0.9667 - val_loss: 0.3722 - val_categorical_accuracy: 0.9567\n",
      "Epoch 14/50\n",
      "1688/1688 [==============================] - 2s 1ms/step - loss: 0.1729 - categorical_accuracy: 0.9687 - val_loss: 0.3449 - val_categorical_accuracy: 0.9643\n",
      "Epoch 15/50\n",
      "1688/1688 [==============================] - 2s 1ms/step - loss: 0.1815 - categorical_accuracy: 0.9694 - val_loss: 0.2952 - val_categorical_accuracy: 0.9598\n",
      "Epoch 16/50\n",
      "1688/1688 [==============================] - 2s 1ms/step - loss: 0.1814 - categorical_accuracy: 0.9696 - val_loss: 0.3801 - val_categorical_accuracy: 0.9597\n",
      "Epoch 17/50\n",
      "1688/1688 [==============================] - 2s 1ms/step - loss: 0.1861 - categorical_accuracy: 0.9711 - val_loss: 0.3868 - val_categorical_accuracy: 0.9675\n",
      "Epoch 18/50\n",
      "1688/1688 [==============================] - 2s 1ms/step - loss: 0.1561 - categorical_accuracy: 0.9742 - val_loss: 0.3730 - val_categorical_accuracy: 0.9632\n",
      "Epoch 19/50\n",
      "1688/1688 [==============================] - 2s 1ms/step - loss: 0.1622 - categorical_accuracy: 0.9733 - val_loss: 0.4252 - val_categorical_accuracy: 0.9632\n",
      "Epoch 20/50\n",
      "1688/1688 [==============================] - 3s 1ms/step - loss: 0.1556 - categorical_accuracy: 0.9737 - val_loss: 0.4011 - val_categorical_accuracy: 0.9652\n",
      "Epoch 21/50\n",
      "1688/1688 [==============================] - 3s 1ms/step - loss: 0.1600 - categorical_accuracy: 0.9751 - val_loss: 0.4580 - val_categorical_accuracy: 0.9617\n",
      "Epoch 22/50\n",
      "1688/1688 [==============================] - 3s 1ms/step - loss: 0.1631 - categorical_accuracy: 0.9756 - val_loss: 0.4482 - val_categorical_accuracy: 0.9613\n",
      "Epoch 23/50\n",
      "1688/1688 [==============================] - 3s 2ms/step - loss: 0.1518 - categorical_accuracy: 0.9742 - val_loss: 0.4350 - val_categorical_accuracy: 0.9660\n",
      "Epoch 24/50\n",
      "1688/1688 [==============================] - 3s 2ms/step - loss: 0.1512 - categorical_accuracy: 0.9750 - val_loss: 0.4202 - val_categorical_accuracy: 0.9678\n",
      "Epoch 25/50\n",
      "1688/1688 [==============================] - 3s 2ms/step - loss: 0.1552 - categorical_accuracy: 0.9777 - val_loss: 0.4403 - val_categorical_accuracy: 0.9625\n",
      "Epoch 26/50\n",
      "1688/1688 [==============================] - 3s 1ms/step - loss: 0.1606 - categorical_accuracy: 0.9762 - val_loss: 0.5286 - val_categorical_accuracy: 0.9642\n",
      "Epoch 27/50\n",
      "1688/1688 [==============================] - 3s 1ms/step - loss: 0.1477 - categorical_accuracy: 0.9785 - val_loss: 0.5785 - val_categorical_accuracy: 0.9673\n",
      "Epoch 28/50\n",
      "1688/1688 [==============================] - 3s 1ms/step - loss: 0.1391 - categorical_accuracy: 0.9773 - val_loss: 0.4530 - val_categorical_accuracy: 0.9698\n",
      "Epoch 29/50\n",
      "1688/1688 [==============================] - 2s 1ms/step - loss: 0.1622 - categorical_accuracy: 0.9782 - val_loss: 0.5736 - val_categorical_accuracy: 0.9668\n",
      "Epoch 30/50\n",
      "1688/1688 [==============================] - 2s 1ms/step - loss: 0.1427 - categorical_accuracy: 0.9787 - val_loss: 0.4960 - val_categorical_accuracy: 0.9668\n",
      "Epoch 31/50\n",
      "1688/1688 [==============================] - 2s 1ms/step - loss: 0.1443 - categorical_accuracy: 0.9788 - val_loss: 0.4814 - val_categorical_accuracy: 0.9690\n",
      "Epoch 32/50\n",
      "1688/1688 [==============================] - 2s 1ms/step - loss: 0.1354 - categorical_accuracy: 0.9800 - val_loss: 0.6140 - val_categorical_accuracy: 0.9615\n",
      "Epoch 33/50\n",
      "1688/1688 [==============================] - 3s 1ms/step - loss: 0.1462 - categorical_accuracy: 0.9790 - val_loss: 0.6868 - val_categorical_accuracy: 0.9668\n",
      "Epoch 34/50\n",
      "1688/1688 [==============================] - 2s 1ms/step - loss: 0.1263 - categorical_accuracy: 0.9816 - val_loss: 0.5832 - val_categorical_accuracy: 0.9698\n",
      "Epoch 35/50\n",
      "1688/1688 [==============================] - 3s 1ms/step - loss: 0.1379 - categorical_accuracy: 0.9807 - val_loss: 0.7573 - val_categorical_accuracy: 0.9650\n",
      "Epoch 36/50\n",
      "1688/1688 [==============================] - 3s 2ms/step - loss: 0.1332 - categorical_accuracy: 0.9812 - val_loss: 0.6073 - val_categorical_accuracy: 0.9690\n",
      "Epoch 37/50\n",
      "1688/1688 [==============================] - 3s 1ms/step - loss: 0.1346 - categorical_accuracy: 0.9819 - val_loss: 0.6084 - val_categorical_accuracy: 0.9677\n",
      "Epoch 38/50\n",
      "1688/1688 [==============================] - 3s 1ms/step - loss: 0.1462 - categorical_accuracy: 0.9819 - val_loss: 0.6117 - val_categorical_accuracy: 0.9692\n",
      "Epoch 39/50\n",
      "1688/1688 [==============================] - 3s 1ms/step - loss: 0.1495 - categorical_accuracy: 0.9816 - val_loss: 0.7192 - val_categorical_accuracy: 0.9673\n"
     ]
    }
   ],
   "source": [
    "history=model.fit(X_train_full,y_train_full_OH,epochs=50,\\\n",
    "                      validation_split=0.1,\\\n",
    "                 callbacks=[early_stop_cb,tensorboard_cb])"
   ]
  },
  {
   "cell_type": "code",
   "execution_count": 21,
   "id": "57d9be5b",
   "metadata": {
    "scrolled": true
   },
   "outputs": [
    {
     "data": {
      "text/plain": [
       "Reusing TensorBoard on port 6006 (pid 115906), started 0:07:53 ago. (Use '!kill 115906' to kill it.)"
      ]
     },
     "metadata": {},
     "output_type": "display_data"
    },
    {
     "data": {
      "text/html": [
       "\n",
       "      <iframe id=\"tensorboard-frame-13b42d69bb147f63\" width=\"100%\" height=\"800\" frameborder=\"0\">\n",
       "      </iframe>\n",
       "      <script>\n",
       "        (function() {\n",
       "          const frame = document.getElementById(\"tensorboard-frame-13b42d69bb147f63\");\n",
       "          const url = new URL(\"/\", window.location);\n",
       "          const port = 6006;\n",
       "          if (port) {\n",
       "            url.port = port;\n",
       "          }\n",
       "          frame.src = url;\n",
       "        })();\n",
       "      </script>\n",
       "    "
      ],
      "text/plain": [
       "<IPython.core.display.HTML object>"
      ]
     },
     "metadata": {},
     "output_type": "display_data"
    }
   ],
   "source": [
    "%reload_ext tensorboard\n",
    "# %tensorboard --helpful\n",
    "%tensorboard --logdir=./my_log --port=6006"
   ]
  },
  {
   "cell_type": "markdown",
   "id": "a2e065cf",
   "metadata": {},
   "source": [
    "Let's try using keras_tuner for HP tuning"
   ]
  },
  {
   "cell_type": "code",
   "execution_count": 4,
   "id": "e0829142",
   "metadata": {},
   "outputs": [],
   "source": [
    "import keras_tuner as kt"
   ]
  },
  {
   "cell_type": "code",
   "execution_count": 7,
   "id": "72c9ccd4",
   "metadata": {},
   "outputs": [],
   "source": [
    "def model_builder(hp):\n",
    "    model_kt = keras.Sequential()\n",
    "    model_kt.add(keras.layers.Flatten(input_shape=(28, 28)))\n",
    "\n",
    "    # Tune the number of units in the first Dense layer\n",
    "    # Choose an optimal value between 32-512\n",
    "    hp_units = hp.Int('units', min_value=32, max_value=512, step=32)\n",
    "    model_kt.add(keras.layers.Dense(units=hp_units, activation='relu'))\n",
    "    model_kt.add(keras.layers.Dense(10))\n",
    "\n",
    "    # Tune the learning rate for the optimizer\n",
    "    # Choose an optimal value from 0.01, 0.001, or 0.0001\n",
    "    hp_learning_rate = hp.Choice('learning_rate', values=[1e-2, 1e-3, 1e-4])\n",
    "\n",
    "    model_kt.compile(optimizer=keras.optimizers.Adam(learning_rate=hp_learning_rate),\n",
    "                  loss=keras.losses.SparseCategoricalCrossentropy(from_logits=True),\n",
    "                  metrics=['acc'])\n",
    "\n",
    "    return model_kt"
   ]
  },
  {
   "cell_type": "code",
   "execution_count": 8,
   "id": "0ce7c8b1",
   "metadata": {},
   "outputs": [
    {
     "name": "stdout",
     "output_type": "stream",
     "text": [
      "INFO:tensorflow:Reloading Oracle from existing project my_dir/intro_to_kt/oracle.json\n"
     ]
    }
   ],
   "source": [
    "tuner = kt.Hyperband(model_builder,\n",
    "                     objective = 'val_acc',\n",
    "                     max_epochs=10,\n",
    "                     factor=3,\n",
    "                     directory='my_dir',\n",
    "                     project_name='intro_to_kt')\n"
   ]
  },
  {
   "cell_type": "code",
   "execution_count": 12,
   "id": "72f4e8e6",
   "metadata": {},
   "outputs": [
    {
     "name": "stdout",
     "output_type": "stream",
     "text": [
      "Trial 30 Complete [00h 00m 20s]\n",
      "val_acc: 0.9779166579246521\n",
      "\n",
      "Best val_acc So Far: 0.9789999723434448\n",
      "Total elapsed time: 00h 04m 22s\n",
      "INFO:tensorflow:Oracle triggered exit\n"
     ]
    }
   ],
   "source": [
    "tuner.search(X_train_full, y_train_full, epochs=50, validation_split=0.2, callbacks=[early_stop_cb,tensorboard_cb])\n"
   ]
  },
  {
   "cell_type": "code",
   "execution_count": 14,
   "id": "31c8dc82",
   "metadata": {},
   "outputs": [
    {
     "name": "stdout",
     "output_type": "stream",
     "text": [
      "\n",
      "The hyperparameter search is complete. The optimal number of units in the first densely-connected\n",
      "layer is 448 and the optimal learning rate for the optimizer\n",
      "is 0.001.\n",
      "\n"
     ]
    }
   ],
   "source": [
    "best_hps=tuner.get_best_hyperparameters(num_trials=1)[0]\n",
    "print(f\"\"\"\n",
    "The hyperparameter search is complete. The optimal number of units in the first densely-connected\n",
    "layer is {best_hps.get('units')} and the optimal learning rate for the optimizer\n",
    "is {best_hps.get('learning_rate')}.\n",
    "\"\"\")\n"
   ]
  },
  {
   "cell_type": "code",
   "execution_count": 17,
   "id": "f61135e7",
   "metadata": {},
   "outputs": [
    {
     "name": "stdout",
     "output_type": "stream",
     "text": [
      "Epoch 1/50\n",
      "1500/1500 [==============================] - 2s 1ms/step - loss: 0.2301 - acc: 0.9327 - val_loss: 0.1127 - val_acc: 0.9675\n",
      "Epoch 2/50\n",
      "1500/1500 [==============================] - 2s 1ms/step - loss: 0.0921 - acc: 0.9718 - val_loss: 0.0977 - val_acc: 0.9690\n",
      "Epoch 3/50\n",
      "1500/1500 [==============================] - 2s 1ms/step - loss: 0.0588 - acc: 0.9815 - val_loss: 0.0895 - val_acc: 0.9747\n",
      "Epoch 4/50\n",
      "1500/1500 [==============================] - 2s 1ms/step - loss: 0.0397 - acc: 0.9880 - val_loss: 0.0837 - val_acc: 0.9759\n",
      "Epoch 5/50\n",
      "1500/1500 [==============================] - 2s 1ms/step - loss: 0.0300 - acc: 0.9903 - val_loss: 0.0854 - val_acc: 0.9756\n",
      "Epoch 6/50\n",
      "1500/1500 [==============================] - 2s 1ms/step - loss: 0.0231 - acc: 0.9925 - val_loss: 0.0704 - val_acc: 0.9807\n",
      "Epoch 7/50\n",
      "1500/1500 [==============================] - 2s 1ms/step - loss: 0.0183 - acc: 0.9939 - val_loss: 0.0877 - val_acc: 0.9759\n",
      "Epoch 8/50\n",
      "1500/1500 [==============================] - 2s 1ms/step - loss: 0.0154 - acc: 0.9949 - val_loss: 0.0890 - val_acc: 0.9770\n",
      "Epoch 9/50\n",
      "1500/1500 [==============================] - 2s 1ms/step - loss: 0.0118 - acc: 0.9963 - val_loss: 0.1048 - val_acc: 0.9768\n",
      "Epoch 10/50\n",
      "1500/1500 [==============================] - 2s 1ms/step - loss: 0.0103 - acc: 0.9966 - val_loss: 0.0848 - val_acc: 0.9812\n",
      "Epoch 11/50\n",
      "1500/1500 [==============================] - 2s 1ms/step - loss: 0.0091 - acc: 0.9970 - val_loss: 0.0975 - val_acc: 0.9770\n",
      "Epoch 12/50\n",
      "1500/1500 [==============================] - 2s 1ms/step - loss: 0.0089 - acc: 0.9968 - val_loss: 0.1070 - val_acc: 0.9784\n",
      "Epoch 13/50\n",
      "1500/1500 [==============================] - 2s 1ms/step - loss: 0.0072 - acc: 0.9976 - val_loss: 0.0992 - val_acc: 0.9805\n",
      "Epoch 14/50\n",
      "1500/1500 [==============================] - 2s 1ms/step - loss: 0.0098 - acc: 0.9970 - val_loss: 0.1148 - val_acc: 0.9771\n",
      "Epoch 15/50\n",
      "1500/1500 [==============================] - 2s 1ms/step - loss: 0.0079 - acc: 0.9973 - val_loss: 0.1178 - val_acc: 0.9765\n",
      "Epoch 16/50\n",
      "1500/1500 [==============================] - 2s 1ms/step - loss: 0.0041 - acc: 0.9986 - val_loss: 0.1180 - val_acc: 0.9780\n",
      "Epoch 17/50\n",
      "1500/1500 [==============================] - 2s 1ms/step - loss: 0.0060 - acc: 0.9980 - val_loss: 0.1163 - val_acc: 0.9782\n",
      "Epoch 18/50\n",
      "1500/1500 [==============================] - 2s 1ms/step - loss: 0.0095 - acc: 0.9969 - val_loss: 0.1247 - val_acc: 0.9783\n",
      "Epoch 19/50\n",
      "1500/1500 [==============================] - 2s 1ms/step - loss: 0.0052 - acc: 0.9985 - val_loss: 0.1238 - val_acc: 0.9804\n",
      "Epoch 20/50\n",
      "1500/1500 [==============================] - 2s 1ms/step - loss: 0.0060 - acc: 0.9981 - val_loss: 0.1322 - val_acc: 0.9772\n",
      "Epoch 21/50\n",
      "1500/1500 [==============================] - 2s 1ms/step - loss: 0.0046 - acc: 0.9988 - val_loss: 0.1754 - val_acc: 0.9744\n",
      "Epoch 22/50\n",
      "1500/1500 [==============================] - 2s 1ms/step - loss: 0.0059 - acc: 0.9981 - val_loss: 0.1271 - val_acc: 0.9803\n",
      "Epoch 23/50\n",
      "1500/1500 [==============================] - 2s 1ms/step - loss: 0.0047 - acc: 0.9984 - val_loss: 0.1434 - val_acc: 0.9784\n",
      "Epoch 24/50\n",
      "1500/1500 [==============================] - 2s 1ms/step - loss: 0.0053 - acc: 0.9985 - val_loss: 0.1360 - val_acc: 0.9791\n",
      "Epoch 25/50\n",
      "1500/1500 [==============================] - 2s 1ms/step - loss: 0.0039 - acc: 0.9986 - val_loss: 0.1479 - val_acc: 0.9783\n",
      "Epoch 26/50\n",
      "1500/1500 [==============================] - 2s 1ms/step - loss: 0.0048 - acc: 0.9984 - val_loss: 0.1627 - val_acc: 0.9767\n",
      "Epoch 27/50\n",
      "1500/1500 [==============================] - 2s 1ms/step - loss: 0.0028 - acc: 0.9991 - val_loss: 0.1719 - val_acc: 0.9772\n",
      "Epoch 28/50\n",
      "1500/1500 [==============================] - 2s 1ms/step - loss: 0.0060 - acc: 0.9980 - val_loss: 0.1491 - val_acc: 0.9784\n",
      "Epoch 29/50\n",
      "1500/1500 [==============================] - 2s 1ms/step - loss: 0.0036 - acc: 0.9987 - val_loss: 0.1477 - val_acc: 0.9810\n",
      "Epoch 30/50\n",
      "1500/1500 [==============================] - 2s 1ms/step - loss: 0.0046 - acc: 0.9987 - val_loss: 0.1572 - val_acc: 0.9787\n",
      "Epoch 31/50\n",
      "1500/1500 [==============================] - 2s 1ms/step - loss: 0.0045 - acc: 0.9986 - val_loss: 0.1577 - val_acc: 0.9809\n",
      "Epoch 32/50\n",
      "1500/1500 [==============================] - 2s 1ms/step - loss: 0.0027 - acc: 0.9992 - val_loss: 0.1730 - val_acc: 0.9805\n",
      "Epoch 33/50\n",
      "1500/1500 [==============================] - 2s 1ms/step - loss: 0.0028 - acc: 0.9991 - val_loss: 0.1710 - val_acc: 0.9784\n",
      "Epoch 34/50\n",
      "1500/1500 [==============================] - 2s 1ms/step - loss: 0.0044 - acc: 0.9985 - val_loss: 0.1914 - val_acc: 0.9771\n",
      "Epoch 35/50\n",
      "1500/1500 [==============================] - 2s 1ms/step - loss: 0.0063 - acc: 0.9982 - val_loss: 0.1715 - val_acc: 0.9791\n",
      "Epoch 36/50\n",
      "1500/1500 [==============================] - 2s 1ms/step - loss: 0.0017 - acc: 0.9996 - val_loss: 0.1583 - val_acc: 0.9806\n",
      "Epoch 37/50\n",
      "1500/1500 [==============================] - 2s 1ms/step - loss: 0.0054 - acc: 0.9986 - val_loss: 0.1871 - val_acc: 0.9791\n",
      "Epoch 38/50\n",
      "1500/1500 [==============================] - 2s 1ms/step - loss: 0.0053 - acc: 0.9986 - val_loss: 0.1692 - val_acc: 0.9810\n",
      "Epoch 39/50\n",
      "1500/1500 [==============================] - 2s 1ms/step - loss: 0.0049 - acc: 0.9987 - val_loss: 0.2183 - val_acc: 0.9755\n",
      "Epoch 40/50\n",
      "1500/1500 [==============================] - 2s 1ms/step - loss: 0.0043 - acc: 0.9984 - val_loss: 0.2104 - val_acc: 0.9774\n",
      "Epoch 41/50\n",
      "1500/1500 [==============================] - 2s 1ms/step - loss: 0.0036 - acc: 0.9987 - val_loss: 0.1753 - val_acc: 0.9806\n",
      "Epoch 42/50\n",
      "1500/1500 [==============================] - 2s 1ms/step - loss: 0.0049 - acc: 0.9987 - val_loss: 0.1795 - val_acc: 0.9806\n",
      "Epoch 43/50\n",
      "1500/1500 [==============================] - 2s 1ms/step - loss: 0.0014 - acc: 0.9995 - val_loss: 0.2109 - val_acc: 0.9778\n",
      "Epoch 44/50\n",
      "1500/1500 [==============================] - 2s 1ms/step - loss: 0.0037 - acc: 0.9990 - val_loss: 0.1823 - val_acc: 0.9811\n",
      "Epoch 45/50\n",
      "1500/1500 [==============================] - 2s 1ms/step - loss: 0.0042 - acc: 0.9988 - val_loss: 0.2034 - val_acc: 0.9792\n",
      "Epoch 46/50\n",
      "1500/1500 [==============================] - 2s 1ms/step - loss: 0.0014 - acc: 0.9997 - val_loss: 0.1898 - val_acc: 0.9797\n",
      "Epoch 47/50\n",
      "1500/1500 [==============================] - 2s 1ms/step - loss: 0.0069 - acc: 0.9981 - val_loss: 0.2244 - val_acc: 0.9763\n",
      "Epoch 48/50\n",
      "1500/1500 [==============================] - 2s 1ms/step - loss: 0.0033 - acc: 0.9990 - val_loss: 0.2001 - val_acc: 0.9796\n",
      "Epoch 49/50\n",
      "1500/1500 [==============================] - 2s 1ms/step - loss: 0.0023 - acc: 0.9995 - val_loss: 0.1795 - val_acc: 0.9817\n",
      "Epoch 50/50\n",
      "1500/1500 [==============================] - 2s 1ms/step - loss: 7.7199e-05 - acc: 1.0000 - val_loss: 0.1788 - val_acc: 0.9813\n",
      "Best epoch: 49\n"
     ]
    }
   ],
   "source": [
    "# Build the model with the optimal hyperparameters and train it on the data for 50 epochs\n",
    "model = tuner.hypermodel.build(best_hps)\n",
    "history = model.fit(X_train_full, y_train_full, epochs=50, validation_split=0.2)\n",
    "\n",
    "val_acc_per_epoch = history.history['val_acc']\n",
    "best_epoch = val_acc_per_epoch.index(max(val_acc_per_epoch)) + 1\n",
    "print('Best epoch: %d' % (best_epoch,))\n"
   ]
  },
  {
   "cell_type": "code",
   "execution_count": 19,
   "id": "354602db",
   "metadata": {},
   "outputs": [
    {
     "name": "stdout",
     "output_type": "stream",
     "text": [
      "Epoch 1/49\n",
      "1500/1500 [==============================] - 2s 1ms/step - loss: 0.2286 - acc: 0.9328 - val_loss: 0.1215 - val_acc: 0.9646\n",
      "Epoch 2/49\n",
      "1500/1500 [==============================] - 2s 1ms/step - loss: 0.0905 - acc: 0.9729 - val_loss: 0.0906 - val_acc: 0.9709\n",
      "Epoch 3/49\n",
      "1500/1500 [==============================] - 2s 1ms/step - loss: 0.0589 - acc: 0.9818 - val_loss: 0.0843 - val_acc: 0.9733\n",
      "Epoch 4/49\n",
      "1500/1500 [==============================] - 2s 1ms/step - loss: 0.0400 - acc: 0.9874 - val_loss: 0.0785 - val_acc: 0.9765\n",
      "Epoch 5/49\n",
      "1500/1500 [==============================] - 2s 1ms/step - loss: 0.0296 - acc: 0.9906 - val_loss: 0.0852 - val_acc: 0.9756\n",
      "Epoch 6/49\n",
      "1500/1500 [==============================] - 2s 1ms/step - loss: 0.0213 - acc: 0.9933 - val_loss: 0.0820 - val_acc: 0.9772\n",
      "Epoch 7/49\n",
      "1500/1500 [==============================] - 2s 1ms/step - loss: 0.0175 - acc: 0.9950 - val_loss: 0.0836 - val_acc: 0.9792\n",
      "Epoch 8/49\n",
      "1500/1500 [==============================] - 2s 1ms/step - loss: 0.0168 - acc: 0.9949 - val_loss: 0.0906 - val_acc: 0.9781\n",
      "Epoch 9/49\n",
      "1500/1500 [==============================] - 2s 1ms/step - loss: 0.0098 - acc: 0.9970 - val_loss: 0.1005 - val_acc: 0.9767\n",
      "Epoch 10/49\n",
      "1500/1500 [==============================] - 2s 1ms/step - loss: 0.0111 - acc: 0.9962 - val_loss: 0.0934 - val_acc: 0.9782\n",
      "Epoch 11/49\n",
      "1500/1500 [==============================] - 2s 1ms/step - loss: 0.0090 - acc: 0.9968 - val_loss: 0.0972 - val_acc: 0.9783\n",
      "Epoch 12/49\n",
      "1500/1500 [==============================] - 2s 1ms/step - loss: 0.0089 - acc: 0.9971 - val_loss: 0.1262 - val_acc: 0.9747\n",
      "Epoch 13/49\n",
      "1500/1500 [==============================] - 2s 1ms/step - loss: 0.0082 - acc: 0.9973 - val_loss: 0.1122 - val_acc: 0.9771\n",
      "Epoch 14/49\n",
      "1500/1500 [==============================] - 2s 1ms/step - loss: 0.0076 - acc: 0.9975 - val_loss: 0.1237 - val_acc: 0.9772\n",
      "Epoch 15/49\n",
      "1500/1500 [==============================] - 2s 1ms/step - loss: 0.0055 - acc: 0.9983 - val_loss: 0.1268 - val_acc: 0.9771\n",
      "Epoch 16/49\n",
      "1500/1500 [==============================] - 2s 1ms/step - loss: 0.0063 - acc: 0.9978 - val_loss: 0.1043 - val_acc: 0.9783\n",
      "Epoch 17/49\n",
      "1500/1500 [==============================] - 2s 1ms/step - loss: 0.0065 - acc: 0.9979 - val_loss: 0.1226 - val_acc: 0.9771\n",
      "Epoch 18/49\n",
      "1500/1500 [==============================] - 2s 1ms/step - loss: 0.0076 - acc: 0.9975 - val_loss: 0.1143 - val_acc: 0.9792\n",
      "Epoch 19/49\n",
      "1500/1500 [==============================] - 2s 1ms/step - loss: 0.0053 - acc: 0.9984 - val_loss: 0.1241 - val_acc: 0.9797\n",
      "Epoch 20/49\n",
      "1500/1500 [==============================] - 2s 1ms/step - loss: 0.0045 - acc: 0.9985 - val_loss: 0.1104 - val_acc: 0.9805\n",
      "Epoch 21/49\n",
      "1500/1500 [==============================] - 2s 1ms/step - loss: 0.0035 - acc: 0.9990 - val_loss: 0.1340 - val_acc: 0.9770\n",
      "Epoch 22/49\n",
      "1500/1500 [==============================] - 2s 1ms/step - loss: 0.0088 - acc: 0.9970 - val_loss: 0.1360 - val_acc: 0.9777\n",
      "Epoch 23/49\n",
      "1500/1500 [==============================] - 2s 1ms/step - loss: 0.0046 - acc: 0.9986 - val_loss: 0.1544 - val_acc: 0.9751\n",
      "Epoch 24/49\n",
      "1500/1500 [==============================] - 2s 1ms/step - loss: 0.0048 - acc: 0.9983 - val_loss: 0.1490 - val_acc: 0.9781\n",
      "Epoch 25/49\n",
      "1500/1500 [==============================] - 2s 1ms/step - loss: 0.0050 - acc: 0.9984 - val_loss: 0.1455 - val_acc: 0.9783\n",
      "Epoch 26/49\n",
      "1500/1500 [==============================] - 2s 1ms/step - loss: 0.0040 - acc: 0.9987 - val_loss: 0.1330 - val_acc: 0.9802\n",
      "Epoch 27/49\n",
      "1500/1500 [==============================] - 2s 1ms/step - loss: 0.0030 - acc: 0.9991 - val_loss: 0.1497 - val_acc: 0.9769\n",
      "Epoch 28/49\n",
      "1500/1500 [==============================] - 2s 1ms/step - loss: 0.0055 - acc: 0.9981 - val_loss: 0.1613 - val_acc: 0.9781\n",
      "Epoch 29/49\n",
      "1500/1500 [==============================] - 2s 1ms/step - loss: 0.0047 - acc: 0.9986 - val_loss: 0.1294 - val_acc: 0.9808\n",
      "Epoch 30/49\n",
      "1500/1500 [==============================] - 2s 1ms/step - loss: 0.0018 - acc: 0.9993 - val_loss: 0.1507 - val_acc: 0.9785\n",
      "Epoch 31/49\n",
      "1500/1500 [==============================] - 2s 1ms/step - loss: 0.0077 - acc: 0.9979 - val_loss: 0.1540 - val_acc: 0.9796\n",
      "Epoch 32/49\n",
      "1500/1500 [==============================] - 2s 1ms/step - loss: 0.0027 - acc: 0.9991 - val_loss: 0.1476 - val_acc: 0.9796\n",
      "Epoch 33/49\n",
      "1500/1500 [==============================] - 2s 1ms/step - loss: 0.0053 - acc: 0.9985 - val_loss: 0.2106 - val_acc: 0.9735\n",
      "Epoch 34/49\n",
      "1500/1500 [==============================] - 2s 1ms/step - loss: 0.0054 - acc: 0.9984 - val_loss: 0.1676 - val_acc: 0.9793\n",
      "Epoch 35/49\n",
      "1500/1500 [==============================] - 2s 1ms/step - loss: 0.0039 - acc: 0.9988 - val_loss: 0.1647 - val_acc: 0.9788\n",
      "Epoch 36/49\n",
      "1500/1500 [==============================] - 2s 1ms/step - loss: 0.0029 - acc: 0.9992 - val_loss: 0.1638 - val_acc: 0.9791\n",
      "Epoch 37/49\n",
      "1500/1500 [==============================] - 2s 1ms/step - loss: 0.0045 - acc: 0.9988 - val_loss: 0.1782 - val_acc: 0.9787\n",
      "Epoch 38/49\n",
      "1500/1500 [==============================] - 2s 1ms/step - loss: 0.0046 - acc: 0.9986 - val_loss: 0.1691 - val_acc: 0.9796\n",
      "Epoch 39/49\n",
      "1500/1500 [==============================] - 2s 1ms/step - loss: 0.0033 - acc: 0.9990 - val_loss: 0.1692 - val_acc: 0.9796\n",
      "Epoch 40/49\n",
      "1500/1500 [==============================] - 2s 1ms/step - loss: 0.0031 - acc: 0.9992 - val_loss: 0.2145 - val_acc: 0.9738\n",
      "Epoch 41/49\n",
      "1500/1500 [==============================] - 2s 1ms/step - loss: 0.0066 - acc: 0.9982 - val_loss: 0.1826 - val_acc: 0.9787\n",
      "Epoch 42/49\n",
      "1500/1500 [==============================] - 2s 1ms/step - loss: 0.0017 - acc: 0.9995 - val_loss: 0.1792 - val_acc: 0.9789\n",
      "Epoch 43/49\n",
      "1500/1500 [==============================] - 2s 1ms/step - loss: 0.0036 - acc: 0.9990 - val_loss: 0.1887 - val_acc: 0.9794\n",
      "Epoch 44/49\n",
      "1500/1500 [==============================] - 2s 1ms/step - loss: 0.0032 - acc: 0.9992 - val_loss: 0.2190 - val_acc: 0.9767\n",
      "Epoch 45/49\n",
      "1500/1500 [==============================] - 2s 1ms/step - loss: 0.0053 - acc: 0.9985 - val_loss: 0.1804 - val_acc: 0.9809\n",
      "Epoch 46/49\n",
      "1500/1500 [==============================] - 2s 1ms/step - loss: 9.4580e-04 - acc: 0.9997 - val_loss: 0.1900 - val_acc: 0.9804\n",
      "Epoch 47/49\n",
      "1500/1500 [==============================] - 2s 1ms/step - loss: 0.0042 - acc: 0.9989 - val_loss: 0.2246 - val_acc: 0.9787\n",
      "Epoch 48/49\n",
      "1500/1500 [==============================] - 2s 1ms/step - loss: 0.0026 - acc: 0.9992 - val_loss: 0.1966 - val_acc: 0.9799\n",
      "Epoch 49/49\n",
      "1500/1500 [==============================] - 2s 1ms/step - loss: 0.0032 - acc: 0.9989 - val_loss: 0.1859 - val_acc: 0.9802\n"
     ]
    },
    {
     "data": {
      "text/plain": [
       "<keras.callbacks.History at 0x7f629c3af2e0>"
      ]
     },
     "execution_count": 19,
     "metadata": {},
     "output_type": "execute_result"
    }
   ],
   "source": [
    "hypermodel = tuner.hypermodel.build(best_hps)\n",
    "\n",
    "# Retrain the model\n",
    "hypermodel.fit(X_train_full, y_train_full, epochs=best_epoch, validation_split=0.2)\n"
   ]
  },
  {
   "cell_type": "code",
   "execution_count": 22,
   "id": "59f64269",
   "metadata": {},
   "outputs": [
    {
     "name": "stdout",
     "output_type": "stream",
     "text": [
      "313/313 [==============================] - 0s 1ms/step - loss: 0.1579 - acc: 0.9826\n",
      "[test loss, test accuracy]: [0.15785501897335052, 0.9825999736785889]\n"
     ]
    }
   ],
   "source": [
    "eval_result = hypermodel.evaluate(X_test, y_test)\n",
    "print(\"[test loss, test accuracy]:\", eval_result)\n"
   ]
  },
  {
   "cell_type": "code",
   "execution_count": null,
   "id": "9f9a920f",
   "metadata": {},
   "outputs": [],
   "source": []
  }
 ],
 "metadata": {
  "kernelspec": {
   "display_name": "Python 3 (ipykernel)",
   "language": "python",
   "name": "python3"
  },
  "language_info": {
   "codemirror_mode": {
    "name": "ipython",
    "version": 3
   },
   "file_extension": ".py",
   "mimetype": "text/x-python",
   "name": "python",
   "nbconvert_exporter": "python",
   "pygments_lexer": "ipython3",
   "version": "3.9.12"
  }
 },
 "nbformat": 4,
 "nbformat_minor": 5
}
