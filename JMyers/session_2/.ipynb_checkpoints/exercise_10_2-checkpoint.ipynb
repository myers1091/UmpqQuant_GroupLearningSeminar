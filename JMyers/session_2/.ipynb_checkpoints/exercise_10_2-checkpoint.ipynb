{
 "cells": [
  {
   "cell_type": "code",
   "execution_count": 4,
   "id": "1226c081-3910-4757-a020-c72e3a542378",
   "metadata": {},
   "outputs": [],
   "source": [
    "import tensorflow as tf\n",
    "from tensorflow import keras"
   ]
  },
  {
   "cell_type": "code",
   "execution_count": 2,
   "id": "31857688-02e9-449a-ad43-dcf0dbe6ec21",
   "metadata": {},
   "outputs": [
    {
     "name": "stdout",
     "output_type": "stream",
     "text": [
      "Num GPUs Available:  1\n"
     ]
    },
    {
     "name": "stderr",
     "output_type": "stream",
     "text": [
      "2022-08-10 16:37:43.380293: I tensorflow/stream_executor/cuda/cuda_gpu_executor.cc:975] successful NUMA node read from SysFS had negative value (-1), but there must be at least one NUMA node, so returning NUMA node zero\n",
      "2022-08-10 16:37:43.385444: I tensorflow/stream_executor/cuda/cuda_gpu_executor.cc:975] successful NUMA node read from SysFS had negative value (-1), but there must be at least one NUMA node, so returning NUMA node zero\n",
      "2022-08-10 16:37:43.386156: I tensorflow/stream_executor/cuda/cuda_gpu_executor.cc:975] successful NUMA node read from SysFS had negative value (-1), but there must be at least one NUMA node, so returning NUMA node zero\n"
     ]
    }
   ],
   "source": [
    "print(\"Num GPUs Available: \", len(tf.config.list_physical_devices('GPU')))\n"
   ]
  },
  {
   "cell_type": "code",
   "execution_count": 3,
   "id": "9e0c278f-28cd-4908-8aa0-d127f3e8b438",
   "metadata": {},
   "outputs": [
    {
     "data": {
      "text/plain": [
       "'2.9.1'"
      ]
     },
     "execution_count": 3,
     "metadata": {},
     "output_type": "execute_result"
    }
   ],
   "source": [
    "tf.__version__"
   ]
  },
  {
   "cell_type": "code",
   "execution_count": 5,
   "id": "5562b0a3-c9c6-4f14-b61e-7cceb61b0483",
   "metadata": {},
   "outputs": [
    {
     "data": {
      "text/plain": [
       "'2.9.0'"
      ]
     },
     "execution_count": 5,
     "metadata": {},
     "output_type": "execute_result"
    }
   ],
   "source": [
    "tf.keras.__version__"
   ]
  },
  {
   "cell_type": "raw",
   "id": "efe5e5ad-2e66-41b3-8f3e-99d04605a656",
   "metadata": {},
   "source": [
    "fashion_mnist = keras.datasets.fashion_mnist\n",
    "(X_train_full,y_train_full),(X_test,y_test) = fashion_mnist.load_data()"
   ]
  },
  {
   "cell_type": "code",
   "execution_count": 9,
   "id": "cea08a3d-f481-4db8-9273-2380e88d830c",
   "metadata": {},
   "outputs": [
    {
     "data": {
      "text/plain": [
       "(60000, 28, 28)"
      ]
     },
     "execution_count": 9,
     "metadata": {},
     "output_type": "execute_result"
    }
   ],
   "source": [
    "X_train_full.shape"
   ]
  },
  {
   "cell_type": "code",
   "execution_count": 10,
   "id": "69106487-5af3-4635-bcaa-a822c1eb56fa",
   "metadata": {},
   "outputs": [],
   "source": [
    "X_valid,X_train = X_train_full[:5000]/255.0,X_train_full[5000:]/255.0\n",
    "y_valid,y_train = y_train_full[:5000],y_train_full[5000:]\n",
    "X_test = X_test/255.0"
   ]
  },
  {
   "cell_type": "code",
   "execution_count": 11,
   "id": "b9ac64f0-9551-41ca-aa5c-2ed3d8109aed",
   "metadata": {},
   "outputs": [],
   "source": [
    "class_names = [\"T-shirt/top\",\"Trousers\",\"Pullover\",\"Dress\",\"Coat\",\"Sandal\",\"Shirt\",\"Sneaker\",\"Bag\",\"Ankel boot\"]"
   ]
  },
  {
   "cell_type": "code",
   "execution_count": 12,
   "id": "329588fe-83fe-424c-ac42-73b546dccdad",
   "metadata": {},
   "outputs": [
    {
     "data": {
      "text/plain": [
       "'Coat'"
      ]
     },
     "execution_count": 12,
     "metadata": {},
     "output_type": "execute_result"
    }
   ],
   "source": [
    "class_names[y_train[0]]"
   ]
  },
  {
   "cell_type": "code",
   "execution_count": 13,
   "id": "fedf1dbb-8a9f-400c-9c22-efc6dee00adf",
   "metadata": {},
   "outputs": [
    {
     "name": "stderr",
     "output_type": "stream",
     "text": [
      "2022-08-10 16:46:23.286180: I tensorflow/core/platform/cpu_feature_guard.cc:193] This TensorFlow binary is optimized with oneAPI Deep Neural Network Library (oneDNN) to use the following CPU instructions in performance-critical operations:  AVX2 FMA\n",
      "To enable them in other operations, rebuild TensorFlow with the appropriate compiler flags.\n",
      "2022-08-10 16:46:23.287722: I tensorflow/stream_executor/cuda/cuda_gpu_executor.cc:975] successful NUMA node read from SysFS had negative value (-1), but there must be at least one NUMA node, so returning NUMA node zero\n",
      "2022-08-10 16:46:23.289036: I tensorflow/stream_executor/cuda/cuda_gpu_executor.cc:975] successful NUMA node read from SysFS had negative value (-1), but there must be at least one NUMA node, so returning NUMA node zero\n",
      "2022-08-10 16:46:23.289696: I tensorflow/stream_executor/cuda/cuda_gpu_executor.cc:975] successful NUMA node read from SysFS had negative value (-1), but there must be at least one NUMA node, so returning NUMA node zero\n",
      "2022-08-10 16:46:23.639013: I tensorflow/stream_executor/cuda/cuda_gpu_executor.cc:975] successful NUMA node read from SysFS had negative value (-1), but there must be at least one NUMA node, so returning NUMA node zero\n",
      "2022-08-10 16:46:23.639662: I tensorflow/stream_executor/cuda/cuda_gpu_executor.cc:975] successful NUMA node read from SysFS had negative value (-1), but there must be at least one NUMA node, so returning NUMA node zero\n",
      "2022-08-10 16:46:23.640275: I tensorflow/stream_executor/cuda/cuda_gpu_executor.cc:975] successful NUMA node read from SysFS had negative value (-1), but there must be at least one NUMA node, so returning NUMA node zero\n",
      "2022-08-10 16:46:23.640869: I tensorflow/core/common_runtime/gpu/gpu_device.cc:1532] Created device /job:localhost/replica:0/task:0/device:GPU:0 with 21950 MB memory:  -> device: 0, name: NVIDIA GeForce RTX 3090, pci bus id: 0000:2b:00.0, compute capability: 8.6\n"
     ]
    }
   ],
   "source": [
    "model = keras.models.Sequential()\n",
    "model.add(keras.layers.Flatten(input_shape=[28,28]))\n",
    "model.add(keras.layers.Dense(300,activation=\"relu\"))\n",
    "model.add(keras.layers.Dense(100,activation=\"relu\"))\n",
    "model.add(keras.layers.Dense(10,activation=\"softmax\"))"
   ]
  },
  {
   "cell_type": "code",
   "execution_count": 14,
   "id": "66017cb3-e192-412e-910d-4c745f38365f",
   "metadata": {},
   "outputs": [
    {
     "name": "stdout",
     "output_type": "stream",
     "text": [
      "Model: \"sequential\"\n",
      "_________________________________________________________________\n",
      " Layer (type)                Output Shape              Param #   \n",
      "=================================================================\n",
      " flatten (Flatten)           (None, 784)               0         \n",
      "                                                                 \n",
      " dense (Dense)               (None, 300)               235500    \n",
      "                                                                 \n",
      " dense_1 (Dense)             (None, 100)               30100     \n",
      "                                                                 \n",
      " dense_2 (Dense)             (None, 10)                1010      \n",
      "                                                                 \n",
      "=================================================================\n",
      "Total params: 266,610\n",
      "Trainable params: 266,610\n",
      "Non-trainable params: 0\n",
      "_________________________________________________________________\n"
     ]
    }
   ],
   "source": [
    "model.summary()"
   ]
  },
  {
   "cell_type": "code",
   "execution_count": 15,
   "id": "0ae1f673-19d9-4d8b-b840-d661375bd9b6",
   "metadata": {},
   "outputs": [
    {
     "data": {
      "text/plain": [
       "[<keras.layers.reshaping.flatten.Flatten at 0x7f39987f9df0>,\n",
       " <keras.layers.core.dense.Dense at 0x7f39987f9af0>,\n",
       " <keras.layers.core.dense.Dense at 0x7f3998102df0>,\n",
       " <keras.layers.core.dense.Dense at 0x7f3998102100>]"
      ]
     },
     "execution_count": 15,
     "metadata": {},
     "output_type": "execute_result"
    }
   ],
   "source": [
    "model.layers"
   ]
  },
  {
   "cell_type": "code",
   "execution_count": 19,
   "id": "182197a3-176e-4d3e-b313-8accc45a63cb",
   "metadata": {},
   "outputs": [
    {
     "data": {
      "text/plain": [
       "'dense'"
      ]
     },
     "execution_count": 19,
     "metadata": {},
     "output_type": "execute_result"
    }
   ],
   "source": [
    "hidden1 = model.layers[1]\n",
    "hidden1.name"
   ]
  },
  {
   "cell_type": "code",
   "execution_count": 20,
   "id": "c43d09ef-1dda-4903-87a7-b0bee5ea26dc",
   "metadata": {},
   "outputs": [],
   "source": [
    "weights, biases = hidden1.get_weights()"
   ]
  },
  {
   "cell_type": "code",
   "execution_count": 21,
   "id": "f7efdb64-a82a-4b79-9d50-a123fb44e86a",
   "metadata": {},
   "outputs": [
    {
     "data": {
      "text/plain": [
       "array([[ 0.01985584,  0.01480813, -0.04321933, ...,  0.00504483,\n",
       "        -0.06126685,  0.028488  ],\n",
       "       [-0.02896162, -0.02368968, -0.0428375 , ..., -0.02482782,\n",
       "        -0.05744322, -0.01252468],\n",
       "       [-0.03490535, -0.02945112, -0.04912729, ..., -0.0626995 ,\n",
       "         0.05415219,  0.00634449],\n",
       "       ...,\n",
       "       [-0.02132732, -0.0019026 , -0.00930978, ...,  0.07363044,\n",
       "        -0.02051507, -0.04118285],\n",
       "       [-0.0718832 ,  0.02536017,  0.06097235, ..., -0.0368207 ,\n",
       "        -0.03529854, -0.0522493 ],\n",
       "       [-0.02969551,  0.01087201, -0.0577453 , ..., -0.03286706,\n",
       "        -0.04050714,  0.06873465]], dtype=float32)"
      ]
     },
     "execution_count": 21,
     "metadata": {},
     "output_type": "execute_result"
    }
   ],
   "source": [
    "weights"
   ]
  },
  {
   "cell_type": "code",
   "execution_count": 22,
   "id": "b51fbce9-cf89-4e63-8134-d86e17734452",
   "metadata": {},
   "outputs": [
    {
     "data": {
      "text/plain": [
       "(784, 300)"
      ]
     },
     "execution_count": 22,
     "metadata": {},
     "output_type": "execute_result"
    }
   ],
   "source": [
    "weights.shape"
   ]
  },
  {
   "cell_type": "code",
   "execution_count": 23,
   "id": "0111716f-c5a6-4b49-9ebb-bb1caaff34be",
   "metadata": {},
   "outputs": [
    {
     "data": {
      "text/plain": [
       "array([0., 0., 0., 0., 0., 0., 0., 0., 0., 0., 0., 0., 0., 0., 0., 0., 0.,\n",
       "       0., 0., 0., 0., 0., 0., 0., 0., 0., 0., 0., 0., 0., 0., 0., 0., 0.,\n",
       "       0., 0., 0., 0., 0., 0., 0., 0., 0., 0., 0., 0., 0., 0., 0., 0., 0.,\n",
       "       0., 0., 0., 0., 0., 0., 0., 0., 0., 0., 0., 0., 0., 0., 0., 0., 0.,\n",
       "       0., 0., 0., 0., 0., 0., 0., 0., 0., 0., 0., 0., 0., 0., 0., 0., 0.,\n",
       "       0., 0., 0., 0., 0., 0., 0., 0., 0., 0., 0., 0., 0., 0., 0., 0., 0.,\n",
       "       0., 0., 0., 0., 0., 0., 0., 0., 0., 0., 0., 0., 0., 0., 0., 0., 0.,\n",
       "       0., 0., 0., 0., 0., 0., 0., 0., 0., 0., 0., 0., 0., 0., 0., 0., 0.,\n",
       "       0., 0., 0., 0., 0., 0., 0., 0., 0., 0., 0., 0., 0., 0., 0., 0., 0.,\n",
       "       0., 0., 0., 0., 0., 0., 0., 0., 0., 0., 0., 0., 0., 0., 0., 0., 0.,\n",
       "       0., 0., 0., 0., 0., 0., 0., 0., 0., 0., 0., 0., 0., 0., 0., 0., 0.,\n",
       "       0., 0., 0., 0., 0., 0., 0., 0., 0., 0., 0., 0., 0., 0., 0., 0., 0.,\n",
       "       0., 0., 0., 0., 0., 0., 0., 0., 0., 0., 0., 0., 0., 0., 0., 0., 0.,\n",
       "       0., 0., 0., 0., 0., 0., 0., 0., 0., 0., 0., 0., 0., 0., 0., 0., 0.,\n",
       "       0., 0., 0., 0., 0., 0., 0., 0., 0., 0., 0., 0., 0., 0., 0., 0., 0.,\n",
       "       0., 0., 0., 0., 0., 0., 0., 0., 0., 0., 0., 0., 0., 0., 0., 0., 0.,\n",
       "       0., 0., 0., 0., 0., 0., 0., 0., 0., 0., 0., 0., 0., 0., 0., 0., 0.,\n",
       "       0., 0., 0., 0., 0., 0., 0., 0., 0., 0., 0.], dtype=float32)"
      ]
     },
     "execution_count": 23,
     "metadata": {},
     "output_type": "execute_result"
    }
   ],
   "source": [
    "biases"
   ]
  },
  {
   "cell_type": "code",
   "execution_count": 24,
   "id": "67189151-a484-40e8-a962-6b1ef46fde73",
   "metadata": {},
   "outputs": [],
   "source": [
    "model.compile(loss = \"sparse_categorical_crossentropy\",\\\n",
    "              optimizer=\"sgd\",\\\n",
    "              metrics=[\"accuracy\"])"
   ]
  },
  {
   "cell_type": "code",
   "execution_count": 26,
   "id": "53084fef-df3a-4a04-b49f-7b88812c3665",
   "metadata": {},
   "outputs": [
    {
     "name": "stdout",
     "output_type": "stream",
     "text": [
      "Epoch 1/30\n",
      "   1/1719 [..............................] - ETA: 23:52 - loss: 2.3750 - accuracy: 0.0938"
     ]
    },
    {
     "name": "stderr",
     "output_type": "stream",
     "text": [
      "2022-08-10 16:52:04.579196: I tensorflow/stream_executor/cuda/cuda_blas.cc:1786] TensorFloat-32 will be used for the matrix multiplication. This will only be logged once.\n"
     ]
    },
    {
     "name": "stdout",
     "output_type": "stream",
     "text": [
      "1719/1719 [==============================] - 3s 2ms/step - loss: 0.7165 - accuracy: 0.7644 - val_loss: 0.5161 - val_accuracy: 0.8268\n",
      "Epoch 2/30\n",
      "1719/1719 [==============================] - 2s 1ms/step - loss: 0.4863 - accuracy: 0.8313 - val_loss: 0.4765 - val_accuracy: 0.8318\n",
      "Epoch 3/30\n",
      "1719/1719 [==============================] - 2s 1ms/step - loss: 0.4423 - accuracy: 0.8453 - val_loss: 0.4099 - val_accuracy: 0.8660\n",
      "Epoch 4/30\n",
      "1719/1719 [==============================] - 2s 1ms/step - loss: 0.4154 - accuracy: 0.8537 - val_loss: 0.3915 - val_accuracy: 0.8682\n",
      "Epoch 5/30\n",
      "1719/1719 [==============================] - 3s 1ms/step - loss: 0.3959 - accuracy: 0.8610 - val_loss: 0.4075 - val_accuracy: 0.8540\n",
      "Epoch 6/30\n",
      "1719/1719 [==============================] - 2s 1ms/step - loss: 0.3793 - accuracy: 0.8658 - val_loss: 0.3758 - val_accuracy: 0.8686\n",
      "Epoch 7/30\n",
      "1719/1719 [==============================] - 2s 1ms/step - loss: 0.3645 - accuracy: 0.8711 - val_loss: 0.3611 - val_accuracy: 0.8744\n",
      "Epoch 8/30\n",
      "1719/1719 [==============================] - 2s 1ms/step - loss: 0.3548 - accuracy: 0.8746 - val_loss: 0.3508 - val_accuracy: 0.8792\n",
      "Epoch 9/30\n",
      "1719/1719 [==============================] - 3s 1ms/step - loss: 0.3443 - accuracy: 0.8772 - val_loss: 0.3621 - val_accuracy: 0.8710\n",
      "Epoch 10/30\n",
      "1719/1719 [==============================] - 3s 2ms/step - loss: 0.3350 - accuracy: 0.8803 - val_loss: 0.3437 - val_accuracy: 0.8810\n",
      "Epoch 11/30\n",
      "1719/1719 [==============================] - 3s 1ms/step - loss: 0.3272 - accuracy: 0.8828 - val_loss: 0.3434 - val_accuracy: 0.8788\n",
      "Epoch 12/30\n",
      "1719/1719 [==============================] - 3s 1ms/step - loss: 0.3192 - accuracy: 0.8866 - val_loss: 0.3438 - val_accuracy: 0.8792\n",
      "Epoch 13/30\n",
      "1719/1719 [==============================] - 3s 1ms/step - loss: 0.3120 - accuracy: 0.8887 - val_loss: 0.3353 - val_accuracy: 0.8828\n",
      "Epoch 14/30\n",
      "1719/1719 [==============================] - 3s 1ms/step - loss: 0.3059 - accuracy: 0.8903 - val_loss: 0.3339 - val_accuracy: 0.8790\n",
      "Epoch 15/30\n",
      "1719/1719 [==============================] - 2s 1ms/step - loss: 0.2982 - accuracy: 0.8940 - val_loss: 0.3262 - val_accuracy: 0.8808\n",
      "Epoch 16/30\n",
      "1719/1719 [==============================] - 2s 1ms/step - loss: 0.2925 - accuracy: 0.8947 - val_loss: 0.3408 - val_accuracy: 0.8812\n",
      "Epoch 17/30\n",
      "1719/1719 [==============================] - 2s 1ms/step - loss: 0.2878 - accuracy: 0.8967 - val_loss: 0.3171 - val_accuracy: 0.8870\n",
      "Epoch 18/30\n",
      "1719/1719 [==============================] - 2s 1ms/step - loss: 0.2816 - accuracy: 0.8993 - val_loss: 0.3206 - val_accuracy: 0.8840\n",
      "Epoch 19/30\n",
      "1719/1719 [==============================] - 2s 1ms/step - loss: 0.2765 - accuracy: 0.8998 - val_loss: 0.3106 - val_accuracy: 0.8914\n",
      "Epoch 20/30\n",
      "1719/1719 [==============================] - 2s 1ms/step - loss: 0.2718 - accuracy: 0.9028 - val_loss: 0.3206 - val_accuracy: 0.8858\n",
      "Epoch 21/30\n",
      "1719/1719 [==============================] - 2s 1ms/step - loss: 0.2668 - accuracy: 0.9038 - val_loss: 0.3085 - val_accuracy: 0.8908\n",
      "Epoch 22/30\n",
      "1719/1719 [==============================] - 2s 1ms/step - loss: 0.2615 - accuracy: 0.9068 - val_loss: 0.3072 - val_accuracy: 0.8896\n",
      "Epoch 23/30\n",
      "1719/1719 [==============================] - 2s 1ms/step - loss: 0.2583 - accuracy: 0.9076 - val_loss: 0.3049 - val_accuracy: 0.8892\n",
      "Epoch 24/30\n",
      "1719/1719 [==============================] - 2s 1ms/step - loss: 0.2540 - accuracy: 0.9083 - val_loss: 0.3229 - val_accuracy: 0.8798\n",
      "Epoch 25/30\n",
      "1719/1719 [==============================] - 2s 1ms/step - loss: 0.2485 - accuracy: 0.9105 - val_loss: 0.3075 - val_accuracy: 0.8876\n",
      "Epoch 26/30\n",
      "1719/1719 [==============================] - 2s 1ms/step - loss: 0.2453 - accuracy: 0.9116 - val_loss: 0.3129 - val_accuracy: 0.8874\n",
      "Epoch 27/30\n",
      "1719/1719 [==============================] - 2s 1ms/step - loss: 0.2412 - accuracy: 0.9129 - val_loss: 0.3016 - val_accuracy: 0.8928\n",
      "Epoch 28/30\n",
      "1719/1719 [==============================] - 2s 1ms/step - loss: 0.2377 - accuracy: 0.9142 - val_loss: 0.3008 - val_accuracy: 0.8928\n",
      "Epoch 29/30\n",
      "1719/1719 [==============================] - 2s 1ms/step - loss: 0.2341 - accuracy: 0.9162 - val_loss: 0.2949 - val_accuracy: 0.8952\n",
      "Epoch 30/30\n",
      "1719/1719 [==============================] - 2s 1ms/step - loss: 0.2293 - accuracy: 0.9171 - val_loss: 0.2955 - val_accuracy: 0.8946\n"
     ]
    }
   ],
   "source": [
    "history=model.fit(X_train,y_train,epochs=30,\\\n",
    "                  validation_data=(X_valid,y_valid))"
   ]
  },
  {
   "cell_type": "code",
   "execution_count": 27,
   "id": "08133fd4-a3ed-433a-b415-60ea8b688037",
   "metadata": {},
   "outputs": [
    {
     "data": {
      "text/plain": [
       "{'verbose': 1, 'epochs': 30, 'steps': 1719}"
      ]
     },
     "execution_count": 27,
     "metadata": {},
     "output_type": "execute_result"
    }
   ],
   "source": [
    "history.params"
   ]
  },
  {
   "cell_type": "code",
   "execution_count": 29,
   "id": "1bc0defa-a341-43bd-9e8b-d3b4e05f7f46",
   "metadata": {},
   "outputs": [
    {
     "data": {
      "text/plain": [
       "[0,\n",
       " 1,\n",
       " 2,\n",
       " 3,\n",
       " 4,\n",
       " 5,\n",
       " 6,\n",
       " 7,\n",
       " 8,\n",
       " 9,\n",
       " 10,\n",
       " 11,\n",
       " 12,\n",
       " 13,\n",
       " 14,\n",
       " 15,\n",
       " 16,\n",
       " 17,\n",
       " 18,\n",
       " 19,\n",
       " 20,\n",
       " 21,\n",
       " 22,\n",
       " 23,\n",
       " 24,\n",
       " 25,\n",
       " 26,\n",
       " 27,\n",
       " 28,\n",
       " 29]"
      ]
     },
     "execution_count": 29,
     "metadata": {},
     "output_type": "execute_result"
    }
   ],
   "source": [
    "history.epoch"
   ]
  },
  {
   "cell_type": "code",
   "execution_count": 30,
   "id": "250073c8-7d43-432c-ba39-51464e46b8ed",
   "metadata": {},
   "outputs": [
    {
     "data": {
      "text/plain": [
       "{'loss': [0.7165312767028809,\n",
       "  0.4862893521785736,\n",
       "  0.4422610104084015,\n",
       "  0.41537341475486755,\n",
       "  0.39585670828819275,\n",
       "  0.3792623281478882,\n",
       "  0.3644563555717468,\n",
       "  0.35482102632522583,\n",
       "  0.34428539872169495,\n",
       "  0.3349561393260956,\n",
       "  0.32724669575691223,\n",
       "  0.31924179196357727,\n",
       "  0.31202083826065063,\n",
       "  0.3059212267398834,\n",
       "  0.2982439696788788,\n",
       "  0.29249143600463867,\n",
       "  0.28775155544281006,\n",
       "  0.2815961241722107,\n",
       "  0.2765265107154846,\n",
       "  0.27184662222862244,\n",
       "  0.2668443024158478,\n",
       "  0.26150423288345337,\n",
       "  0.2582852840423584,\n",
       "  0.253955215215683,\n",
       "  0.24848812818527222,\n",
       "  0.2452559620141983,\n",
       "  0.24120774865150452,\n",
       "  0.23767821490764618,\n",
       "  0.23408108949661255,\n",
       "  0.22931744158267975],\n",
       " 'accuracy': [0.7643636465072632,\n",
       "  0.8313454389572144,\n",
       "  0.8453272581100464,\n",
       "  0.8537272810935974,\n",
       "  0.8609636425971985,\n",
       "  0.865818202495575,\n",
       "  0.8710908889770508,\n",
       "  0.8745636343955994,\n",
       "  0.8772181868553162,\n",
       "  0.8802909255027771,\n",
       "  0.8828363418579102,\n",
       "  0.8865818381309509,\n",
       "  0.8886545300483704,\n",
       "  0.8902727365493774,\n",
       "  0.8940181732177734,\n",
       "  0.8947454690933228,\n",
       "  0.8967272639274597,\n",
       "  0.899327278137207,\n",
       "  0.8998000025749207,\n",
       "  0.9027818441390991,\n",
       "  0.9038363695144653,\n",
       "  0.9068363904953003,\n",
       "  0.9075999855995178,\n",
       "  0.9083454608917236,\n",
       "  0.9105454683303833,\n",
       "  0.9116363525390625,\n",
       "  0.9128909111022949,\n",
       "  0.9141818284988403,\n",
       "  0.9161636233329773,\n",
       "  0.9170727133750916],\n",
       " 'val_loss': [0.516128420829773,\n",
       "  0.47649022936820984,\n",
       "  0.4098883271217346,\n",
       "  0.3915415406227112,\n",
       "  0.4074523150920868,\n",
       "  0.3757646381855011,\n",
       "  0.3610852062702179,\n",
       "  0.3508000373840332,\n",
       "  0.3621029853820801,\n",
       "  0.34371423721313477,\n",
       "  0.34338122606277466,\n",
       "  0.34378448128700256,\n",
       "  0.3353453576564789,\n",
       "  0.3338519036769867,\n",
       "  0.3262483775615692,\n",
       "  0.3407610356807709,\n",
       "  0.31710708141326904,\n",
       "  0.3205920457839966,\n",
       "  0.31055355072021484,\n",
       "  0.3206164836883545,\n",
       "  0.3084929585456848,\n",
       "  0.30722445249557495,\n",
       "  0.3048841953277588,\n",
       "  0.3228706419467926,\n",
       "  0.3075409531593323,\n",
       "  0.3128747344017029,\n",
       "  0.3016194999217987,\n",
       "  0.30084091424942017,\n",
       "  0.29489588737487793,\n",
       "  0.2954639494419098],\n",
       " 'val_accuracy': [0.8267999887466431,\n",
       "  0.8317999839782715,\n",
       "  0.8659999966621399,\n",
       "  0.8682000041007996,\n",
       "  0.8539999723434448,\n",
       "  0.8686000108718872,\n",
       "  0.8744000196456909,\n",
       "  0.8791999816894531,\n",
       "  0.8709999918937683,\n",
       "  0.8809999823570251,\n",
       "  0.8787999749183655,\n",
       "  0.8791999816894531,\n",
       "  0.8827999830245972,\n",
       "  0.8790000081062317,\n",
       "  0.8808000087738037,\n",
       "  0.8812000155448914,\n",
       "  0.8870000243186951,\n",
       "  0.8840000033378601,\n",
       "  0.8913999795913696,\n",
       "  0.8858000040054321,\n",
       "  0.8907999992370605,\n",
       "  0.8895999789237976,\n",
       "  0.88919997215271,\n",
       "  0.879800021648407,\n",
       "  0.8876000046730042,\n",
       "  0.8873999714851379,\n",
       "  0.892799973487854,\n",
       "  0.892799973487854,\n",
       "  0.8952000141143799,\n",
       "  0.894599974155426]}"
      ]
     },
     "execution_count": 30,
     "metadata": {},
     "output_type": "execute_result"
    }
   ],
   "source": [
    "history.history"
   ]
  },
  {
   "cell_type": "code",
   "execution_count": 31,
   "id": "7ddfbb63-ac39-44b4-b7aa-c8b0b7a1b5e0",
   "metadata": {},
   "outputs": [],
   "source": [
    "import pandas as pd\n",
    "import matplotlib.pyplot as plt"
   ]
  },
  {
   "cell_type": "code",
   "execution_count": 32,
   "id": "c796bab0-a475-4d45-8e0f-988683814c03",
   "metadata": {},
   "outputs": [
    {
     "data": {
      "image/png": "[encoded data removed]",
      "text/plain": [
       "<Figure size 576x360 with 1 Axes>"
      ]
     },
     "metadata": {
      "needs_background": "light"
     },
     "output_type": "display_data"
    }
   ],
   "source": [
    "pd.DataFrame(history.history).plot(figsize=(8,5))\n",
    "plt.grid(True)\n",
    "plt.gca().set_ylim(0,1)\n",
    "plt.show()"
   ]
  },
  {
   "cell_type": "code",
   "execution_count": 33,
   "id": "471774d9-fc2f-4ff7-ab81-acde81bc0209",
   "metadata": {},
   "outputs": [
    {
     "name": "stdout",
     "output_type": "stream",
     "text": [
      "313/313 [==============================] - 0s 1ms/step - loss: 0.3260 - accuracy: 0.8843\n"
     ]
    },
    {
     "data": {
      "text/plain": [
       "[0.3259913921356201, 0.8842999935150146]"
      ]
     },
     "execution_count": 33,
     "metadata": {},
     "output_type": "execute_result"
    }
   ],
   "source": [
    "model.evaluate(X_test,y_test)"
   ]
  },
  {
   "cell_type": "code",
   "execution_count": null,
   "id": "eda4316e-813b-4406-8eb9-b0aca921e5d8",
   "metadata": {},
   "outputs": [],
   "source": []
  }
 ],
 "metadata": {
  "kernelspec": {
   "display_name": "Python 3 (ipykernel)",
   "language": "python",
   "name": "python3"
  },
  "language_info": {
   "codemirror_mode": {
    "name": "ipython",
    "version": 3
   },
   "file_extension": ".py",
   "mimetype": "text/x-python",
   "name": "python",
   "nbconvert_exporter": "python",
   "pygments_lexer": "ipython3",
   "version": "3.9.12"
  }
 },
 "nbformat": 4,
 "nbformat_minor": 5
}
